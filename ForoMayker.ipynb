{
 "cells": [
  {
   "cell_type": "markdown",
   "metadata": {},
   "source": [
    "### Creamos la clase vehiculo con sus clases,atributosy métodos"
   ]
  },
  {
   "cell_type": "code",
   "execution_count": 3,
   "metadata": {},
   "outputs": [],
   "source": [
    "class Vehiculo:\n",
    "  def __init__(self, max_velocidad, kilometraje,color,asientos_llenos):\n",
    "      self.max_velocidad = max_velocidad\n",
    "      self.kilometraje = kilometraje\n",
    "      self.color = color\n",
    "      self.asientos_llenos = asientos_llenos\n",
    "\n",
    "  ## MÉTODO ATRIBUTO  \n",
    "def atributo(self):\n",
    "      print(f\"Max Velocidad: {self.max_velocidad}\")\n",
    "      print(f\"Kilometraje: {self.kilometraje}\")\n",
    "      print(f\"color: {self.color}\")\n",
    "      \n",
    "  ## MÉTODO AFORO\n",
    "def aforo(self, asientos_totales=40):\n",
    "      print(f\"Asientos llenos: {self.asientos_llenos}\")\n",
    "      print(f\"Asientos totales: {asientos_totales}\")\n",
    "      asientos_dsiponibles = asientos_totales- self.asientos_llenos\n",
    "      print(f\"Asientos disponibles: {asientos_dsiponibles}\")\n",
    "      tarifa_total_por_cubrir = asientos_dsiponibles* 25\n",
    "      print(f\"Tarifa total por cubrir: {tarifa_total_por_cubrir}\")\n",
    "\n",
    "\n"
   ]
  },
  {
   "cell_type": "markdown",
   "metadata": {},
   "source": [
    "\n",
    "### Imprimimos los atributos del vehiculo"
   ]
  },
  {
   "cell_type": "code",
   "execution_count": 4,
   "metadata": {},
   "outputs": [
    {
     "name": "stdout",
     "output_type": "stream",
     "text": [
      "Max Velocidad: 20\n",
      "Kilometraje: 130\n",
      "color: rojo\n"
     ]
    }
   ],
   "source": [
    "Burrito_UNALM = Vehiculo(20,130,\"rojo\",20)\n",
    "atributo(Burrito_UNALM)"
   ]
  },
  {
   "cell_type": "markdown",
   "metadata": {},
   "source": [
    "### Imprimimos los asientos llenos y los asientos disponibles, junto con la tarifa total a cubrir"
   ]
  },
  {
   "cell_type": "code",
   "execution_count": 9,
   "metadata": {},
   "outputs": [
    {
     "name": "stdout",
     "output_type": "stream",
     "text": [
      "Asientos llenos: 20\n",
      "Asientos totales: 40\n",
      "Asientos disponibles: 20\n",
      "Tarifa total por cubrir: 650.0\n"
     ]
    }
   ],
   "source": [
    "aforo(Burrito_UNALM)"
   ]
  },
  {
   "cell_type": "markdown",
   "metadata": {},
   "source": [
    "### Creamos la clase hija de nombre \"bus\" "
   ]
  },
  {
   "cell_type": "code",
   "execution_count": 10,
   "metadata": {},
   "outputs": [],
   "source": [
    "\n",
    "class Bus(Vehiculo):\n",
    "  def __init__(self, max_velocidad, kilometraje, color, asientos_llenos):\n",
    "    super().__init__(max_velocidad, kilometraje, color, asientos_llenos)\n",
    "\n",
    "def aforo(self, asientos_totales=40):\n",
    "    print(f\"Asientos llenos: {self.asientos_llenos}\")\n",
    "    print(f\"Asientos totales: {asientos_totales}\")\n",
    "    asientos_disponibles = asientos_totales- self.asientos_llenos\n",
    "    print(f\"Asientos disponibles: {asientos_disponibles}\")\n",
    "    tarifa_total_por_cubrir = asientos_disponibles * 25 * 1.30\n",
    "    print(f\"Tarifa total por cubrir: {tarifa_total_por_cubrir}\")"
   ]
  },
  {
   "cell_type": "markdown",
   "metadata": {},
   "source": [
    "### Imprimimos los asientos llenos y disponible, junto con la tarifa total a pagar más el 30% adicional por el mantenimiento"
   ]
  },
  {
   "cell_type": "code",
   "execution_count": 11,
   "metadata": {},
   "outputs": [
    {
     "name": "stdout",
     "output_type": "stream",
     "text": [
      "Asientos llenos: 20\n",
      "Asientos totales: 40\n",
      "Asientos disponibles: 20\n",
      "Tarifa total por cubrir: 650.0\n"
     ]
    }
   ],
   "source": [
    "miBus = Bus(80, 10000, 'Azul', 20)\n",
    "aforo(miBus)"
   ]
  }
 ],
 "metadata": {
  "kernelspec": {
   "display_name": "Python 3 (ipykernel)",
   "language": "python",
   "name": "python3"
  },
  "language_info": {
   "codemirror_mode": {
    "name": "ipython",
    "version": 3
   },
   "file_extension": ".py",
   "mimetype": "text/x-python",
   "name": "python",
   "nbconvert_exporter": "python",
   "pygments_lexer": "ipython3",
   "version": "3.9.13"
  },
  "vscode": {
   "interpreter": {
    "hash": "248a588a76b6706a21340fde56c27be1ec20c4c6adc023561a032c09e10eba1a"
   }
  }
 },
 "nbformat": 4,
 "nbformat_minor": 2
}
